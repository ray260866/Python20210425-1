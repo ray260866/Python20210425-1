{
  "nbformat": 4,
  "nbformat_minor": 0,
  "metadata": {
    "colab": {
      "name": "3_python決策與選擇結構.ipynb",
      "provenance": [],
      "authorship_tag": "ABX9TyMEfUcKN+7AiI0EEOCUNHgS",
      "include_colab_link": true
    },
    "kernelspec": {
      "name": "python3",
      "display_name": "Python 3"
    },
    "language_info": {
      "name": "python"
    }
  },
  "cells": [
    {
      "cell_type": "markdown",
      "metadata": {
        "id": "view-in-github",
        "colab_type": "text"
      },
      "source": [
        "<a href=\"https://colab.research.google.com/github/ray260866/Python20210425-1/blob/main/3_python%E6%B1%BA%E7%AD%96%E8%88%87%E9%81%B8%E6%93%87%E7%B5%90%E6%A7%8B.ipynb\" target=\"_parent\"><img src=\"https://colab.research.google.com/assets/colab-badge.svg\" alt=\"Open In Colab\"/></a>"
      ]
    },
    {
      "cell_type": "markdown",
      "metadata": {
        "id": "3oSO5zbEgru_"
      },
      "source": [
        "[1]if ==>底下程式輸出為何?"
      ]
    },
    {
      "cell_type": "code",
      "metadata": {
        "colab": {
          "base_uri": "https://localhost:8080/"
        },
        "id": "OmNEoH8WgtRU",
        "outputId": "9573c9f4-3664-45d4-8134-ee9f71ebb796"
      },
      "source": [
        "a = 33\n",
        "b = 200\n",
        "\n",
        "if b > a:\n",
        "  print(\"b is greater than a\")"
      ],
      "execution_count": 1,
      "outputs": [
        {
          "output_type": "stream",
          "text": [
            "b is greater than a\n"
          ],
          "name": "stdout"
        }
      ]
    },
    {
      "cell_type": "code",
      "metadata": {
        "id": "laEYxrEngw4U"
      },
      "source": [
        "a = 33\n",
        "b = 20\n",
        "\n",
        "if b > a:\n",
        "  print(\"b is greater than a\")"
      ],
      "execution_count": 2,
      "outputs": []
    },
    {
      "cell_type": "markdown",
      "metadata": {
        "id": "raxXM2ibgzR0"
      },
      "source": [
        "[2]if ...elsif ==>底下程式輸出為何?"
      ]
    },
    {
      "cell_type": "markdown",
      "metadata": {
        "id": "7Nm61_yngzuc"
      },
      "source": [
        "範例一"
      ]
    },
    {
      "cell_type": "code",
      "metadata": {
        "colab": {
          "base_uri": "https://localhost:8080/"
        },
        "id": "NZaqUnNEg2GN",
        "outputId": "8f7256ce-50ab-419e-fb7d-a1257681ad1c"
      },
      "source": [
        "a = 32\n",
        "b = 33\n",
        "\n",
        "if b > a:\n",
        "  print(\"b is greater than a\")\n",
        "elif a == b:\n",
        "  print(\"a and b are equal\")"
      ],
      "execution_count": 3,
      "outputs": [
        {
          "output_type": "stream",
          "text": [
            "b is greater than a\n"
          ],
          "name": "stdout"
        }
      ]
    },
    {
      "cell_type": "markdown",
      "metadata": {
        "id": "2GsxVMUFg2WE"
      },
      "source": [
        "範例二"
      ]
    },
    {
      "cell_type": "code",
      "metadata": {
        "colab": {
          "base_uri": "https://localhost:8080/"
        },
        "id": "2ruSfjJlg8SW",
        "outputId": "464ad95b-706f-45b8-c162-f2e80df8e90a"
      },
      "source": [
        "a = 33\n",
        "b = 33\n",
        "if b > a:\n",
        "  print(\"b is greater than a\")\n",
        "elif a == b:\n",
        "  print(\"a and b are equal\")"
      ],
      "execution_count": 4,
      "outputs": [
        {
          "output_type": "stream",
          "text": [
            "a and b are equal\n"
          ],
          "name": "stdout"
        }
      ]
    },
    {
      "cell_type": "markdown",
      "metadata": {
        "id": "EEAG1Jo3g-xk"
      },
      "source": [
        "範例三"
      ]
    },
    {
      "cell_type": "code",
      "metadata": {
        "id": "1G1fphD_hALM"
      },
      "source": [
        "a = 35\n",
        "b = 33\n",
        "\n",
        "if b > a:\n",
        "  print(\"b is greater than a\")\n",
        "elif a == b:\n",
        "  print(\"a and b are equal\")"
      ],
      "execution_count": null,
      "outputs": []
    },
    {
      "cell_type": "markdown",
      "metadata": {
        "id": "EfphIp84hCal"
      },
      "source": [
        "雙向判斷式（if⋯else）: 二選一｜一定要選的"
      ]
    },
    {
      "cell_type": "code",
      "metadata": {
        "id": "2XtrlSxLhBiF"
      },
      "source": [
        "a = 200\n",
        "b = 33\n",
        "\n",
        "if b > a:\n",
        "  print(\"b is greater than a\")\n",
        "else:\n",
        "  print(\"b is not greater than a\")"
      ],
      "execution_count": null,
      "outputs": []
    },
    {
      "cell_type": "markdown",
      "metadata": {
        "id": "BsmQrnhghFfN"
      },
      "source": [
        "[4]if ...elsif ...else 多選一｜一定要選的"
      ]
    },
    {
      "cell_type": "code",
      "metadata": {
        "colab": {
          "base_uri": "https://localhost:8080/"
        },
        "id": "uZ-nc-K8hFm_",
        "outputId": "a4a3a418-a0bd-4c62-bb1a-76d3468bc09b"
      },
      "source": [
        "a = 200\n",
        "b = 33\n",
        "\n",
        "if b > a:\n",
        "  print(\"b is greater than a\")\n",
        "elif a == b:\n",
        "  print(\"a and b are equal\")\n",
        "else:\n",
        "  print(\"a is greater than b\")"
      ],
      "execution_count": 6,
      "outputs": [
        {
          "output_type": "stream",
          "text": [
            "a is greater than b\n"
          ],
          "name": "stdout"
        }
      ]
    },
    {
      "cell_type": "markdown",
      "metadata": {
        "id": "-9APchVKhGom"
      },
      "source": [
        "[5]各種判斷條件 ==> 善用 AND OR"
      ]
    },
    {
      "cell_type": "markdown",
      "metadata": {
        "id": "cg7TP56yhGs1"
      },
      "source": [
        "    判斷是否為閏年"
      ]
    },
    {
      "cell_type": "code",
      "metadata": {
        "colab": {
          "base_uri": "https://localhost:8080/"
        },
        "id": "h6cODYkPhG4A",
        "outputId": "72d4c89c-0a2c-4e03-e502-4684d748baea"
      },
      "source": [
        "year= eval(input(\"請輸入年\"))\n",
        "\n",
        "if ((year%400==0) or (year%4==0 and year%100!=0)):\n",
        "  print(\"{0} 是閏年\".format(year))\n",
        "else:\n",
        "  print(\"{0} 不是閏年\".format(year))"
      ],
      "execution_count": 5,
      "outputs": [
        {
          "output_type": "stream",
          "text": [
            "請輸入年2021\n",
            "2021 不是閏年\n"
          ],
          "name": "stdout"
        }
      ]
    },
    {
      "cell_type": "markdown",
      "metadata": {
        "id": "HSaVQFelhXm1"
      },
      "source": [
        "作業"
      ]
    },
    {
      "cell_type": "markdown",
      "metadata": {
        "id": "Syx255nvhdD9"
      },
      "source": [
        "    記得完成 PPC_Ez 3.calendar"
      ]
    },
    {
      "cell_type": "markdown",
      "metadata": {
        "id": "mj8Qgp-Whel-"
      },
      "source": [
        "[6]歲月匆匆程式開發 ==>先講 運算思維 再講程式語法"
      ]
    },
    {
      "cell_type": "markdown",
      "metadata": {
        "id": "1w-ep0VbhhpE"
      },
      "source": [
        "    問題簡述:\n",
        "    輸入:年月日\n",
        "    輸出:今年已經過了多少日"
      ]
    },
    {
      "cell_type": "markdown",
      "metadata": {
        "id": "vRNFusYMhkPt"
      },
      "source": [
        "先測試看看輸入部分"
      ]
    },
    {
      "cell_type": "code",
      "metadata": {
        "colab": {
          "base_uri": "https://localhost:8080/"
        },
        "id": "9RyOqU3ehllW",
        "outputId": "32557b04-05b5-4a18-e680-60e9a5eedd42"
      },
      "source": [
        "year, month, day = eval(input(\"請輸入年月日\"))\n",
        "year, month, day"
      ],
      "execution_count": 7,
      "outputs": [
        {
          "output_type": "stream",
          "text": [
            "請輸入年月日2021,4,25\n"
          ],
          "name": "stdout"
        },
        {
          "output_type": "execute_result",
          "data": {
            "text/plain": [
              "(2021, 4, 25)"
            ]
          },
          "metadata": {
            "tags": []
          },
          "execution_count": 7
        }
      ]
    },
    {
      "cell_type": "markdown",
      "metadata": {
        "id": "kg0bqnxGhsy1"
      },
      "source": [
        "再測試 閏年2月的時間"
      ]
    },
    {
      "cell_type": "code",
      "metadata": {
        "id": "823ySWwAhtxl"
      },
      "source": [
        "day_month = [31, 28, 31, 30, 31, 30, 31, 31, 30, 31, 30, 31]\n",
        "\n",
        "if year%400==0 or (year%4==0 and year%100!=0):\t\n",
        "  day_month[1] = 29"
      ],
      "execution_count": 9,
      "outputs": []
    },
    {
      "cell_type": "markdown",
      "metadata": {
        "id": "g0ZD4lKMhvo8"
      },
      "source": [
        "計算所有已經過去的日子"
      ]
    },
    {
      "cell_type": "code",
      "metadata": {
        "colab": {
          "base_uri": "https://localhost:8080/"
        },
        "id": "lDsEdQEthyJP",
        "outputId": "75573d39-75e4-49a4-bfa9-3e17ba6ef846"
      },
      "source": [
        "if month==1:\n",
        "    print(day)\n",
        "else:\n",
        "    print(sum(day_month[:month-1])+day)"
      ],
      "execution_count": 10,
      "outputs": [
        {
          "output_type": "stream",
          "text": [
            "115\n"
          ],
          "name": "stdout"
        }
      ]
    },
    {
      "cell_type": "markdown",
      "metadata": {
        "id": "CMCUuZOZh2T8"
      },
      "source": [
        "完整程式"
      ]
    },
    {
      "cell_type": "code",
      "metadata": {
        "colab": {
          "base_uri": "https://localhost:8080/"
        },
        "id": "zF8oVDhWh5kt",
        "outputId": "9e60e6f9-11d6-4b1f-a49b-860bf0b203b5"
      },
      "source": [
        "year, month, day = eval(input(\"請輸入年月日\"))\n",
        "year, month, day\n",
        "\n",
        "day_month = [31, 28, 31, 30, 31, 30, 31, 31, 30, 31, 30, 31]\n",
        "\n",
        "if year%400==0 or (year%4==0 and year%100!=0):\t\n",
        "  day_month[1] = 29\n",
        "\n",
        "if month==1:\n",
        "    print(day)\n",
        "else:\n",
        "    print(sum(day_month[:month-1])+day)"
      ],
      "execution_count": 11,
      "outputs": [
        {
          "output_type": "stream",
          "text": [
            "請輸入年月日2021,4,25\n",
            "115\n"
          ],
          "name": "stdout"
        }
      ]
    },
    {
      "cell_type": "markdown",
      "metadata": {
        "id": "j4Imu9nCh75F"
      },
      "source": [
        "多向判斷式（if⋯elif⋯else）:收銀台程式開發[學生自己學習]"
      ]
    },
    {
      "cell_type": "markdown",
      "metadata": {
        "id": "yatFIlENh77g"
      },
      "source": [
        "    百貨公司週年慶活動血拼大打折，\n",
        "    吸引很多顧客上門，\n",
        "    公司決定再加碼回饋客戶，\n",
        "\n",
        "    只要客戶消費\n",
        "    金額在 100000 元以上就打八折，\n",
        "    金額在 50000 元以上就打八五折，\n",
        "    金額在 30000 元以上就打九折，\n",
        "    金額在 10000 元以上就打九五折，\n",
        "    金額在 10000 元以下就不打折\n",
        "\n",
        "    請幫該公司設計這個收銀台的程式，\n",
        "    輸入顧客購買金額後，計算顧客應付的金錢。\n",
        "\n",
        "    若輸入113234元顧客應付多少錢"
      ]
    },
    {
      "cell_type": "code",
      "metadata": {
        "colab": {
          "base_uri": "https://localhost:8080/"
        },
        "id": "CG-axpt5iIqW",
        "outputId": "07f7f003-9a8e-48cf-ed9a-da7d7a55b35c"
      },
      "source": [
        "money = int(input(\"請輸入購物金額：\"))\n",
        "\n",
        "if(money >= 10000):\n",
        "    if(money >= 100000):\n",
        "        print(money * 0.8, end=\" 元\\n\")  #八折\n",
        "    elif(money >= 50000):\n",
        "        print(money * 0.85, end=\" 元\\n\")  #八五折\n",
        "    elif(money >= 30000):\n",
        "        print(money * 0.9, end=\" 元\\n\")  #九折\n",
        "    else:\n",
        "        print(money * 0.95, end=\" 元\\n\")  #九五折\n",
        "else:\n",
        "    print(money, end=\" 元\\n\")  #未打折"
      ],
      "execution_count": 12,
      "outputs": [
        {
          "output_type": "stream",
          "text": [
            "請輸入購物金額：113234\n",
            "90587.20000000001 元\n"
          ],
          "name": "stdout"
        }
      ]
    }
  ]
}