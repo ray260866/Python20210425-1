{
  "nbformat": 4,
  "nbformat_minor": 0,
  "metadata": {
    "colab": {
      "name": "4_廻圈loop.ipynb",
      "provenance": [],
      "authorship_tag": "ABX9TyPZPSVWbfZcer8FmeyAXzCv",
      "include_colab_link": true
    },
    "kernelspec": {
      "name": "python3",
      "display_name": "Python 3"
    },
    "language_info": {
      "name": "python"
    }
  },
  "cells": [
    {
      "cell_type": "markdown",
      "metadata": {
        "id": "view-in-github",
        "colab_type": "text"
      },
      "source": [
        "<a href=\"https://colab.research.google.com/github/ray260866/Python20210425-1/blob/main/4_%E5%BB%BB%E5%9C%88loop.ipynb\" target=\"_parent\"><img src=\"https://colab.research.google.com/assets/colab-badge.svg\" alt=\"Open In Colab\"/></a>"
      ]
    },
    {
      "cell_type": "markdown",
      "metadata": {
        "id": "xWenif3Wnr13"
      },
      "source": [
        "agenda"
      ]
    },
    {
      "cell_type": "markdown",
      "metadata": {
        "id": "kU3ncW3Anu3l"
      },
      "source": [
        "    [1].使用range 函式 的功能建立整數循序數列\n",
        "\n",
        "    [2].使用for 廻圈 執行固定次數的廻圈運算(通常)\n",
        "    [3].使用while 廻圈執行沒有固定次數的廻圈運算\n",
        "\n",
        "    [4].continue 指令: 在廻圈執行中途暫時停住不往下執行，而跳到廻圈的起始處執行\n",
        "    [5].break 指令:在廻圈執行中途強迫跳離廻圈，跳到廻圈後面的程式繼續執行。\n",
        "\n",
        "    [6].廻圈中又包含廻圈的巢狀廻圈(Nested Loop)　===>設計九九乘法表"
      ]
    },
    {
      "cell_type": "markdown",
      "metadata": {
        "id": "z58P2gwznsH2"
      },
      "source": [
        "    C 程式設計有(1)for 廻圈 (2)while 廻圈 (3)do… while 廻圈 \n",
        "\n",
        "    Python沒有do… while 廻圈 ==>你自己實作一個吧?!!"
      ]
    },
    {
      "cell_type": "markdown",
      "metadata": {
        "id": "kt2IpYxmn5PO"
      },
      "source": [
        "range() 函式"
      ]
    },
    {
      "cell_type": "markdown",
      "metadata": {
        "id": "x001Qmv5n659"
      },
      "source": [
        "    使用range 函式 的建立整數循序數列\n",
        " \n",
        "    變數1 = range(整數值)\n",
        "    變數2 = range(起始值, 終止值)\n",
        "    變數3 = range(起始值, 終止值, 多少間隔)"
      ]
    },
    {
      "cell_type": "markdown",
      "metadata": {
        "id": "SA9YsTVDn_Fu"
      },
      "source": [
        "變數1 = range(整數值)"
      ]
    },
    {
      "cell_type": "code",
      "metadata": {
        "id": "qdvOaEIjoAm2"
      },
      "source": [
        "list1=range(10)\n",
        "print(list1)\n",
        "\n",
        "print(list(list1))"
      ],
      "execution_count": null,
      "outputs": []
    },
    {
      "cell_type": "markdown",
      "metadata": {
        "id": "_hM-45N9oAyl"
      },
      "source": [
        "變數2 = range(起始值, 終止值)"
      ]
    },
    {
      "cell_type": "code",
      "metadata": {
        "id": "KJ4IYdKsoA7t"
      },
      "source": [
        "list2=range(-4,5)\n",
        "print(list(list2))"
      ],
      "execution_count": null,
      "outputs": []
    },
    {
      "cell_type": "markdown",
      "metadata": {
        "id": "fnqxnFJloBLF"
      },
      "source": [
        "變數3 = range(起始值, 終止值, 多少間隔)"
      ]
    },
    {
      "cell_type": "code",
      "metadata": {
        "id": "KG182ZKaoBaX"
      },
      "source": [
        "list3=range(-4,5,2)\n",
        "print(list(list3))"
      ],
      "execution_count": null,
      "outputs": []
    },
    {
      "cell_type": "code",
      "metadata": {
        "id": "fMmIbph1oBc_"
      },
      "source": [
        "list4=range(-4,6,2)\n",
        "print(list(list4))"
      ],
      "execution_count": null,
      "outputs": []
    },
    {
      "cell_type": "markdown",
      "metadata": {
        "id": "VdSGmXDjoKK1"
      },
      "source": [
        "[2]for 廻圈"
      ]
    },
    {
      "cell_type": "markdown",
      "metadata": {
        "id": "W-tC5Js5oKNn"
      },
      "source": [
        "    使用for 廻圈 執行固定次數的廻圈運算(通常)"
      ]
    },
    {
      "cell_type": "markdown",
      "metadata": {
        "id": "FO9cXVw5oPj1"
      },
      "source": [
        "範例 1:"
      ]
    },
    {
      "cell_type": "code",
      "metadata": {
        "id": "N3ko5DhzoP1t"
      },
      "source": [
        "for n in range(5):\n",
        "  print(n)"
      ],
      "execution_count": null,
      "outputs": []
    },
    {
      "cell_type": "markdown",
      "metadata": {
        "id": "uLM-ABv3oP71"
      },
      "source": [
        "範例 2:"
      ]
    },
    {
      "cell_type": "code",
      "metadata": {
        "id": "z_1YjgNAoQCR"
      },
      "source": [
        "for n in range(10):\n",
        "    print(n, end='@')\n",
        "\n",
        "    #print(n, end='%%%%')"
      ],
      "execution_count": null,
      "outputs": []
    },
    {
      "cell_type": "markdown",
      "metadata": {
        "id": "naHYZByGoQQt"
      },
      "source": [
        "範例 3:底下兩個程式輸出為何? and why?"
      ]
    },
    {
      "cell_type": "markdown",
      "metadata": {
        "id": "Wzp1pjjzoQTF"
      },
      "source": [
        "程式1"
      ]
    },
    {
      "cell_type": "code",
      "metadata": {
        "id": "fXR5W25doaE9"
      },
      "source": [
        "mysum = 0\n",
        "\n",
        "for n in range(5):\n",
        "  mysum += n\n",
        "  print(mysum)"
      ],
      "execution_count": null,
      "outputs": []
    },
    {
      "cell_type": "markdown",
      "metadata": {
        "id": "Ep9oIdetoV0N"
      },
      "source": [
        "程式2"
      ]
    },
    {
      "cell_type": "code",
      "metadata": {
        "id": "7s3uG9gKoQfF"
      },
      "source": [
        "mysum = 0\n",
        "\n",
        "for n in range(5):\n",
        "  mysum += n\n",
        "\n",
        "print(mysum)"
      ],
      "execution_count": null,
      "outputs": []
    },
    {
      "cell_type": "markdown",
      "metadata": {
        "id": "sDoubTcsogU1"
      },
      "source": [
        "Python 程式碼縮排"
      ]
    },
    {
      "cell_type": "markdown",
      "metadata": {
        "id": "O6mJN448ogXS"
      },
      "source": [
        "    Python 語言以冒號「:」及縮排來表示程式區塊\n",
        "    縮排為 1 個 Tab 鍵或 4 個空白鍵"
      ]
    },
    {
      "cell_type": "markdown",
      "metadata": {
        "id": "WlLcVgJYook4"
      },
      "source": [
        "範例 4:計算1+2+3+ .....+ n"
      ]
    },
    {
      "cell_type": "code",
      "metadata": {
        "id": "Gw0pHjlJop0k"
      },
      "source": [
        "x = int(input(\"請輸入一個正整數:\"))\n",
        "\n",
        "mysum = 0\n",
        "\n",
        "for n in range(x+1): ## 為什麼不是range(x)?\n",
        "  mysum += n\n",
        "\n",
        "print(mysum)"
      ],
      "execution_count": null,
      "outputs": []
    },
    {
      "cell_type": "markdown",
      "metadata": {
        "id": "7U_jVaPCorQ1"
      },
      "source": [
        "    作業是回家做的,上課期間專心聽講\n",
        "\n",
        "    作業1:計算n!(==1*2*3* .....*n)\n",
        "\n",
        "    作業2:輸入n\n",
        "    若n是偶數 則 輸出2+4+6+..+n 答案\n",
        "    若n是奇數 則 輸出1+3+5+..+n 答案\n",
        "\n",
        "    作業3:續上題 增加判斷條件 ==> 輸入驗證(input validation)\n",
        "    若使用者輸入錯誤(如 -3 或是 11.5等) 請他再輸入一次\n",
        "\n",
        "    作業4:再續上題 增加 錯誤次數記錄\n",
        "    若 錯誤次數記錄 大於3次  輸出\"你下輩子再來玩吧!\"\n",
        "\n",
        "    以上題目再用while  loop再寫一次 ~~~~"
      ]
    },
    {
      "cell_type": "markdown",
      "metadata": {
        "id": "olbHWKuRo2uR"
      },
      "source": [
        "[程式閱讀題]執行下列程式並說明其結果"
      ]
    },
    {
      "cell_type": "code",
      "metadata": {
        "id": "f-h4LDuQo4du"
      },
      "source": [
        "#底下程式如果第五行改成  if (number % 2 = 0):答案會是甚麼??\n",
        "\n",
        "numbers = [21, 4, 35, 1, 8, 7, 3, 6, 9]\n",
        "my_numbers = []\n",
        "\n",
        "for number in numbers:\n",
        "  if (number % 2 != 0): \n",
        "    my_numbers.append(number)\n",
        "\n",
        "print(my_numbers)"
      ],
      "execution_count": null,
      "outputs": []
    },
    {
      "cell_type": "markdown",
      "metadata": {
        "id": "lY-HOSXPo5-W"
      },
      "source": [
        "[3]While Loop"
      ]
    },
    {
      "cell_type": "markdown",
      "metadata": {
        "id": "_FW8zwRpo8d2"
      },
      "source": [
        "    使用 while loop設計 \n",
        "    n階程的計算:n!=1*2*3*⋯*n\n",
        "\n",
        "    1!　=　１\n",
        "    2!　=　1*2　=　2\n",
        "    3!　=　1*2*3　=　6\n"
      ]
    },
    {
      "cell_type": "markdown",
      "metadata": {
        "id": "meEUUWV3o8gY"
      },
      "source": [
        "    輸入::一個正整數 n\n",
        "    輸出::n!\n",
        "\n",
        "    當使用者輸入一個正整數 n 後，程式就會顯示\n",
        "    1*2*3*...*n 的乘積"
      ]
    },
    {
      "cell_type": "markdown",
      "metadata": {
        "id": "OgKkvs3LpFLe"
      },
      "source": [
        "程式範例"
      ]
    },
    {
      "cell_type": "code",
      "metadata": {
        "id": "bKRswSb5pFZ2"
      },
      "source": [
        "total = i = 1\n",
        "\n",
        "n = int(input(\"請輸入正整數 n 的值：\")) # 再問一次:為什麼要加\n",
        "\n",
        "while(i<=n):\n",
        "    total *= i  \n",
        "    i+=1      \n",
        "\n",
        "print(\"%d!=%d\" % (n, total))"
      ],
      "execution_count": null,
      "outputs": []
    },
    {
      "cell_type": "markdown",
      "metadata": {
        "id": "xfuzvs1upJ_W"
      },
      "source": [
        "[4]break 指令"
      ]
    },
    {
      "cell_type": "markdown",
      "metadata": {
        "id": "DTrnfRrMpKBl"
      },
      "source": [
        "    可在廻圈執行中途強迫跳離廻圈，跳到廻圈後面的程式繼續執行。"
      ]
    },
    {
      "cell_type": "code",
      "metadata": {
        "id": "hoyLO-brpKJO"
      },
      "source": [
        "fruits = [\"香蕉\",\"蘋果\",\"橘子\",\"鳳梨\",\"西瓜\"]\n",
        "\n",
        "while True:\n",
        "    fruit = input(\"請輸入喜歡的水果(Enter 結束)：\")\n",
        "\n",
        "  # 要執行程式請記得把底下兩行 # 去除 \n",
        "  #  if (fruit==\"\"):\n",
        "  #      break\n",
        "\n",
        "    n = fruits.count(fruit) \n",
        "    if (n>0):  # 串列元素存在\n",
        "        p=fruits.index(fruit)\n",
        "        print(\"%s 在串列中的第 %d 項\" %(fruit,p+1))\n",
        "    else:\n",
        "        print(fruit,\"不在串列中!\")"
      ],
      "execution_count": null,
      "outputs": []
    },
    {
      "cell_type": "markdown",
      "metadata": {
        "id": "KWT0WQR2pOhP"
      },
      "source": [
        "[5]continue 指令"
      ]
    },
    {
      "cell_type": "markdown",
      "metadata": {
        "id": "S6MBbEyTpQWG"
      },
      "source": [
        "    在廻圈執行中途暫時停住不往下執行，而跳到廻圈的起始處繼續執行"
      ]
    },
    {
      "cell_type": "markdown",
      "metadata": {
        "id": "5d4VX7K0pSuv"
      },
      "source": [
        "    撰寫一個可以排除數列中 5 的倍數的程式\n",
        "\n",
        "    輸入::一個正整數 n\n",
        "    輸出::\n",
        "    使用者只要輸入一個正整數，\n",
        "    程式會顯示由 1 到該整數的整數數列，但會將 5 的倍數排除"
      ]
    },
    {
      "cell_type": "code",
      "metadata": {
        "id": "He058mMrpRK_"
      },
      "source": [
        "n = int(input(\"請輸入正整數：\"))\n",
        "\n",
        "for i in range(1, n+1):\n",
        "    if i % 5 ==0:\n",
        "        continue\n",
        "    print(i,end=\" \")"
      ],
      "execution_count": null,
      "outputs": []
    },
    {
      "cell_type": "markdown",
      "metadata": {
        "id": "dZiUPSujpWyP"
      },
      "source": [
        "[6]巢狀廻圈Nested Loop[自主學習主題]"
      ]
    },
    {
      "cell_type": "markdown",
      "metadata": {
        "id": "4K5jlj24pW0S"
      },
      "source": [
        "    廻圈中又包含廻圈 ==> 巢狀廻圈(Nested Loop)"
      ]
    },
    {
      "cell_type": "markdown",
      "metadata": {
        "id": "87LyRTFUpdAI"
      },
      "source": [
        "[程式閱讀題] 底下程式執行的結果為何?請說明其邏輯"
      ]
    },
    {
      "cell_type": "code",
      "metadata": {
        "id": "KvbrA1O-pePn"
      },
      "source": [
        "#!/usr/bin/python\n",
        "# -*- coding: UTF-8 -*-\n",
        " \n",
        "for i in range(1,6):\n",
        "    for j in range(1,5):\n",
        "        for k in range(1,7):\n",
        "            if( i != k ) and (i != j) and (j != k):\n",
        "                print(i,j,k)"
      ],
      "execution_count": null,
      "outputs": []
    },
    {
      "cell_type": "markdown",
      "metadata": {
        "id": "vhbxO5MHpeqp"
      },
      "source": [
        "    作業1:計算上題的總和"
      ]
    },
    {
      "cell_type": "markdown",
      "metadata": {
        "id": "6bHjuWULphDQ"
      },
      "source": [
        "程式設計題:九九乘法表"
      ]
    },
    {
      "cell_type": "markdown",
      "metadata": {
        "id": "y58_yP5Ypis_"
      },
      "source": [
        "    留給你當作業：九九乘法表"
      ]
    },
    {
      "cell_type": "markdown",
      "metadata": {
        "id": "nLzEZKmCplnX"
      },
      "source": [
        "小小測驗:不必教 [自主學習主題]"
      ]
    },
    {
      "cell_type": "markdown",
      "metadata": {
        "id": "WMup10B_pmrP"
      },
      "source": [
        "底下程式執行結果為何?"
      ]
    },
    {
      "cell_type": "code",
      "metadata": {
        "id": "9aQOty4_pqPV"
      },
      "source": [
        "for x in range(19):\n",
        "  print(x)"
      ],
      "execution_count": null,
      "outputs": []
    },
    {
      "cell_type": "code",
      "metadata": {
        "id": "HEYJXBaypqTf"
      },
      "source": [
        "for x in range(0,19,2):\n",
        "  print(x)"
      ],
      "execution_count": null,
      "outputs": []
    },
    {
      "cell_type": "code",
      "metadata": {
        "id": "9Or3osCVpqYZ"
      },
      "source": [
        "for x in range(20,11,-1):\n",
        "  print(x)\n"
      ],
      "execution_count": null,
      "outputs": []
    },
    {
      "cell_type": "code",
      "metadata": {
        "id": "BmoNL1PppqdA"
      },
      "source": [
        "for x in range(0,19,-1):\n",
        "  print(x)\n",
        "output = ''"
      ],
      "execution_count": null,
      "outputs": []
    },
    {
      "cell_type": "code",
      "metadata": {
        "id": "x4Ya2Gexpqhm"
      },
      "source": [
        "for x in range(0,19,3):\n",
        "  output += str(x)\n",
        "  print(output, end=\" \")\n",
        "output = ''"
      ],
      "execution_count": null,
      "outputs": []
    },
    {
      "cell_type": "code",
      "metadata": {
        "id": "DcGPBYw6pqma"
      },
      "source": [
        "for x in range(0,19,3):\n",
        "  print(x, end=\" \")\n",
        "list1 = range(0,19,3)"
      ],
      "execution_count": null,
      "outputs": []
    },
    {
      "cell_type": "code",
      "metadata": {
        "colab": {
          "base_uri": "https://localhost:8080/",
          "height": 182
        },
        "id": "Lrgn995LpqrQ",
        "outputId": "557df969-5595-43b9-e584-91070d091023"
      },
      "source": [
        "for x in list1:\n",
        "  print(x, end=\" \")"
      ],
      "execution_count": 2,
      "outputs": [
        {
          "output_type": "error",
          "ename": "NameError",
          "evalue": "ignored",
          "traceback": [
            "\u001b[0;31m---------------------------------------------------------------------------\u001b[0m",
            "\u001b[0;31mNameError\u001b[0m                                 Traceback (most recent call last)",
            "\u001b[0;32m<ipython-input-2-0f156a43e9d2>\u001b[0m in \u001b[0;36m<module>\u001b[0;34m()\u001b[0m\n\u001b[0;32m----> 1\u001b[0;31m \u001b[0;32mfor\u001b[0m \u001b[0mx\u001b[0m \u001b[0;32min\u001b[0m \u001b[0mlist1\u001b[0m\u001b[0;34m:\u001b[0m\u001b[0;34m\u001b[0m\u001b[0;34m\u001b[0m\u001b[0m\n\u001b[0m\u001b[1;32m      2\u001b[0m   \u001b[0mprint\u001b[0m\u001b[0;34m(\u001b[0m\u001b[0mx\u001b[0m\u001b[0;34m,\u001b[0m \u001b[0mend\u001b[0m\u001b[0;34m=\u001b[0m\u001b[0;34m\" \"\u001b[0m\u001b[0;34m)\u001b[0m\u001b[0;34m\u001b[0m\u001b[0;34m\u001b[0m\u001b[0m\n",
            "\u001b[0;31mNameError\u001b[0m: name 'list1' is not defined"
          ]
        }
      ]
    },
    {
      "cell_type": "markdown",
      "metadata": {
        "id": "pAwgJqovqHPS"
      },
      "source": [
        "[程式閱讀題] 下列程式輸入淨利潤為11111時請問輸出為何?"
      ]
    },
    {
      "cell_type": "code",
      "metadata": {
        "colab": {
          "base_uri": "https://localhost:8080/"
        },
        "id": "hNJqWT0ZqHxW",
        "outputId": "dbf3ed18-a444-4449-ead1-4b61bc1b650c"
      },
      "source": [
        "#!/usr/bin/python\n",
        "# -*- coding: UTF-8 -*-\n",
        " \n",
        "i = int(input('淨利潤:'))\n",
        "\n",
        "arr = [1000000,600000,400000,200000,100000,0]\n",
        "rat = [0.01,0.015,0.03,0.05,0.075,0.1]\n",
        "r = 0\n",
        "\n",
        "for idx in range(0,6):\n",
        "    if i>arr[idx]:\n",
        "        r+=(i-arr[idx])*rat[idx]\n",
        "        print((i-arr[idx])*rat[idx])\n",
        "        i=arr[idx]\n",
        "\n",
        "print(r)"
      ],
      "execution_count": 1,
      "outputs": [
        {
          "output_type": "stream",
          "text": [
            "淨利潤:1000000\n",
            "6000.0\n",
            "6000.0\n",
            "10000.0\n",
            "7500.0\n",
            "10000.0\n",
            "39500.0\n"
          ],
          "name": "stdout"
        }
      ]
    }
  ]
}