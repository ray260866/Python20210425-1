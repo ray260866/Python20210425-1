{
  "nbformat": 4,
  "nbformat_minor": 0,
  "metadata": {
    "colab": {
      "name": "2_資料型態(data Type)及其運算.ipynb",
      "provenance": [],
      "collapsed_sections": [],
      "authorship_tag": "ABX9TyMk9J7s1j47omDZ24vIphVq",
      "include_colab_link": true
    },
    "kernelspec": {
      "name": "python3",
      "display_name": "Python 3"
    },
    "language_info": {
      "name": "python"
    }
  },
  "cells": [
    {
      "cell_type": "markdown",
      "metadata": {
        "id": "view-in-github",
        "colab_type": "text"
      },
      "source": [
        "<a href=\"https://colab.research.google.com/github/ray260866/Python20210425-1/blob/main/2_%E8%B3%87%E6%96%99%E5%9E%8B%E6%85%8B(data_Type)%E5%8F%8A%E5%85%B6%E9%81%8B%E7%AE%97.ipynb\" target=\"_parent\"><img src=\"https://colab.research.google.com/assets/colab-badge.svg\" alt=\"Open In Colab\"/></a>"
      ]
    },
    {
      "cell_type": "markdown",
      "metadata": {
        "id": "fqgAcLU9MAFB"
      },
      "source": [
        "資料型態(data Type)及其運算\n",
        "\n",
        "Python有眾多資料型態(data Type)及其各種運算\n",
        ">* 數值(Numeric)資料及其運算\n",
        ">* 字串(string)及其運算\n",
        ">* 列表(list)資料及其運算\n",
        ">* 字典(dict)資料及其運算  \n",
        ">*[自我練習]tuple資料及其運算  \n",
        ">*[自我練習]set資料及其運算\n",
        "    \n",
        "本課程規劃讓同學快速掌握python程式的開發技術\n",
        "\n",
        "還有更多技術及細節 請務必閱讀更多教材深入學習\n",
        "\n",
        "資料型態(Data Type)學習重點:\n",
        "\n",
        "   各種運算\n",
        "\n",
        "   各種內建函數"
      ]
    },
    {
      "cell_type": "markdown",
      "metadata": {
        "id": "xb3inbnaMUto"
      },
      "source": [
        "1_數值(Numeric)資料及其運算\n",
        "\n",
        "    [1]Python支援的數值型資料型別(Numerics Data Type)\n",
        "    [2]基本的運算  <==請參閱書籍\n",
        "    算術運算子Arithmetic operators\n",
        "    比較（關係）運算子Comparison operators\n",
        "    賦值運算子Assignment operators\n",
        "    邏輯運算符Logical operators\n",
        "    位元運算子Bitwise operators\n",
        "    成員運算子Identity operators\n",
        "    身份運算子Membership operators\n",
        "\n",
        "    運算子優先順序\n",
        "\n",
        "    [3]內建的各種數學函數(Built-in functions)\n",
        "    Python 支持三種不同的數值型別(Data Type)：\n",
        "\n",
        "    [1]Int 整數，是可以是正或負整數，不帶小數點。\n",
        "    Python3  int是沒有限制大小的，可以當作 Long 類型使用，所以 Python3 沒有  \n",
        "    Python2 的 Long 類型。\n",
        "    [2]浮點數(float) :由整數部分與小數部分組成，浮點型也可以使用科學計數法表示\n",
        "    （2.5e2 = 2.5 x 10 0 = 250）\n",
        "    [3]複數( (complex)) - 複數由實數部分和虛數部分構成，可以用a + bj,或者complex\n",
        "    (a,b)表示， \n",
        "複數的實部a和虛部b都是浮點型。"
      ]
    },
    {
      "cell_type": "markdown",
      "metadata": {
        "id": "ZGzo1GRCMquk"
      },
      "source": [
        "[2]基本的運算\n",
        "\n",
        "請參閱底下網址完成數值(Numeric)資料的各種運算\n",
        "\n",
        "https://www.w3schools.com/python/python_operators.asp"
      ]
    },
    {
      "cell_type": "markdown",
      "metadata": {
        "id": "VSmEFmxdMySw"
      },
      "source": [
        "[實作練習]底下程式執行後結果為何?"
      ]
    },
    {
      "cell_type": "code",
      "metadata": {
        "colab": {
          "base_uri": "https://localhost:8080/"
        },
        "id": "SJ6PWT3mL5Nc",
        "outputId": "86f0382a-f601-426a-aa3b-408ff64cf44c"
      },
      "source": [
        "a = 17 / 3\n",
        "b = 17 // 3\n",
        "c = 17 % 3\n",
        "\n",
        "a,b,c"
      ],
      "execution_count": 1,
      "outputs": [
        {
          "output_type": "execute_result",
          "data": {
            "text/plain": [
              "(5.666666666666667, 5, 2)"
            ]
          },
          "metadata": {
            "tags": []
          },
          "execution_count": 1
        }
      ]
    },
    {
      "cell_type": "markdown",
      "metadata": {
        "id": "kEd9KQ3_M4-i"
      },
      "source": [
        "邏輯運算 Logical Operators"
      ]
    },
    {
      "cell_type": "markdown",
      "metadata": {
        "id": "WQrUsVL-M5tY"
      },
      "source": [
        "範例:底下輸出為何? and why?"
      ]
    },
    {
      "cell_type": "code",
      "metadata": {
        "colab": {
          "base_uri": "https://localhost:8080/"
        },
        "id": "GE1939aQM_XJ",
        "outputId": "6a843b27-2b71-4cb0-cc75-ca2abdffce3b"
      },
      "source": [
        "x = 5\n",
        "print(x > 3 and x < 10)"
      ],
      "execution_count": 2,
      "outputs": [
        {
          "output_type": "stream",
          "text": [
            "True\n"
          ],
          "name": "stdout"
        }
      ]
    },
    {
      "cell_type": "markdown",
      "metadata": {
        "id": "l542wKSiNC5w"
      },
      "source": [
        "範例:底下輸出為何? and why?"
      ]
    },
    {
      "cell_type": "code",
      "metadata": {
        "colab": {
          "base_uri": "https://localhost:8080/"
        },
        "id": "-tHz0f4SNDb4",
        "outputId": "360c9061-18d2-4d37-d15f-db0f6672f962"
      },
      "source": [
        "x = 5\n",
        "print(not(x > 3 and x < 10))"
      ],
      "execution_count": 3,
      "outputs": [
        {
          "output_type": "stream",
          "text": [
            "False\n"
          ],
          "name": "stdout"
        }
      ]
    },
    {
      "cell_type": "markdown",
      "metadata": {
        "id": "BUm4f6rXNHrR"
      },
      "source": [
        "作業:Bitwise Operators[不要教,會花很多時間]"
      ]
    },
    {
      "cell_type": "code",
      "metadata": {
        "colab": {
          "base_uri": "https://localhost:8080/"
        },
        "id": "zVsjNaYVNIWy",
        "outputId": "986052cf-7c84-4273-e516-80242d917b01"
      },
      "source": [
        "#!/usr/bin/python3\n",
        " \n",
        "a = 60            # 60 = 0011 1100 \n",
        "b = 13            # 13 = 0000 1101 \n",
        "c = 0\n",
        "\n",
        "print (\"0 - a =  60 = 0011 1100(二進位) \")\n",
        "print (\"0 - b =  13 = 0000 1101(二進位) \")\n",
        "c = a & b;        # 12 = 0000 1100\n",
        "print (\"1 - c = a & b的值為：\", c)\n",
        " \n",
        "c = a | b;        # 61 = 0011 1101 \n",
        "print (\"2 - c = a | b的值為：\", c)\n",
        " \n",
        "c = a ^ b;        # 49 = 0011 0001\n",
        "print (\"3 - c= a ^ b 的值為：\", c)\n",
        " \n",
        "c = ~a;           # -61 = 1100 0011\n",
        "print (\"4 - c = ~a的值為：\", c)\n",
        " \n",
        "c = a << 2;       # 240 = 1111 0000\n",
        "print (\"5 - c = a << 2的值為：\", c)\n",
        " \n",
        "c = a >> 2;       # 15 = 0000 1111\n",
        "print (\"6 - c = a >> 2的值為：\", c)"
      ],
      "execution_count": 4,
      "outputs": [
        {
          "output_type": "stream",
          "text": [
            "0 - a =  60 = 0011 1100(二進位) \n",
            "0 - b =  13 = 0000 1101(二進位) \n",
            "1 - c = a & b的值為： 12\n",
            "2 - c = a | b的值為： 61\n",
            "3 - c= a ^ b 的值為： 49\n",
            "4 - c = ~a的值為： -61\n",
            "5 - c = a << 2的值為： 240\n",
            "6 - c = a >> 2的值為： 15\n"
          ],
          "name": "stdout"
        }
      ]
    },
    {
      "cell_type": "markdown",
      "metadata": {
        "id": "xf8LKvYXNLbA"
      },
      "source": [
        "[3]內建函式: round()函數的測試"
      ]
    },
    {
      "cell_type": "code",
      "metadata": {
        "colab": {
          "base_uri": "https://localhost:8080/"
        },
        "id": "gMhUHamkNQOT",
        "outputId": "e804b474-56cf-4267-9333-aac7586a97a7"
      },
      "source": [
        "#Round a number to only two decimals:\n",
        "x = round(5.76543, 2)\n",
        "print(x)\n",
        "\n",
        "\n",
        "# Round to the nearest integer:\n",
        "y = round(5.76543)\n",
        "print(y)"
      ],
      "execution_count": 5,
      "outputs": [
        {
          "output_type": "stream",
          "text": [
            "5.77\n",
            "6\n"
          ],
          "name": "stdout"
        }
      ]
    },
    {
      "cell_type": "markdown",
      "metadata": {
        "id": "FDaOpawMNSeZ"
      },
      "source": [
        "作業:參考底網址完成十種函數的自我測試報告\n",
        "\n",
        "https://www.w3schools.com/python/python_ref_functions.asp"
      ]
    },
    {
      "cell_type": "markdown",
      "metadata": {
        "id": "Gu3q4n2yNVLI"
      },
      "source": [
        "[4]Python 型態轉換"
      ]
    },
    {
      "cell_type": "markdown",
      "metadata": {
        "id": "Y_LZiwGgNYjo"
      },
      "source": [
        "資料類型的轉換只需要將資料類型作為函數名即可。\n",
        "\n",
        "    int(x) 將x轉換為一個整數。\n",
        "    float(x) 將x轉換到一個浮點數。\n",
        "    complex(x) 將x轉換到一個複數，實數部分為 x，虛數部分為 0。\n",
        "    complex(x, y) 將 x 和 y 轉換到一個複數，實數部分為 x，虛數部分為 y。x 和 y \n",
        "    是數字運算式。"
      ]
    },
    {
      "cell_type": "markdown",
      "metadata": {
        "id": "-0HaZE-iNezg"
      },
      "source": [
        "範例:"
      ]
    },
    {
      "cell_type": "code",
      "metadata": {
        "colab": {
          "base_uri": "https://localhost:8080/"
        },
        "id": "DbdrFQbxNggg",
        "outputId": "0e9f88ba-5437-4a35-909b-d7fbab21b4a3"
      },
      "source": [
        "a = 1.0004\n",
        "int(a)\n",
        "\n",
        "b = 0.9999\n",
        "int(a)"
      ],
      "execution_count": 6,
      "outputs": [
        {
          "output_type": "execute_result",
          "data": {
            "text/plain": [
              "1"
            ]
          },
          "metadata": {
            "tags": []
          },
          "execution_count": 6
        }
      ]
    },
    {
      "cell_type": "markdown",
      "metadata": {
        "id": "IrgVDC2eNiXA"
      },
      "source": [
        "作業:picoCTF 2017 : compute-rsa-50\n",
        "    RSA encryption/decryption is based on a formula that anyone can find and \n",
        "    use, \n",
        "    as long as they know the values to plug in. \n",
        "\n",
        "    Given the encrypted number 150815, d = 1941, and N = 435979, \n",
        "    what is the decrypted number?\n",
        "\n",
        "    HINTS\n",
        "    decrypted = (encrypted) ^ d mod N\n",
        "運算優先順序 請參閱書籍"
      ]
    },
    {
      "cell_type": "markdown",
      "metadata": {
        "id": "0ZtFdRMfNvfx"
      },
      "source": [
        "2_字串(string)及其運算"
      ]
    },
    {
      "cell_type": "markdown",
      "metadata": {
        "id": "KmImdzj-NzjI"
      },
      "source": [
        "字串(string)\n",
        "\n",
        "    [1]string字串 資料型態(data type) \n",
        "    [2]string字串的運算\n",
        "    [3]Python内建的字串函数(Built-in String Methods)\n"
      ]
    },
    {
      "cell_type": "markdown",
      "metadata": {
        "id": "J_jEC6QRN81u"
      },
      "source": [
        "[2_1]string字串 資料型態(data type)\n",
        "    變數值以一對雙引號 (「\"」)或單引號 (「'」)\n",
        "\n",
        "    str1 = '這是字串'\n",
        "    str2 = \"這也是字串\"\n",
        "    str3 = 'allows embedded \"double\" quotes'"
      ]
    },
    {
      "cell_type": "markdown",
      "metadata": {
        "id": "wYgn4NgFOE1X"
      },
      "source": [
        "[2_2]string字串的運算\n",
        "\n",
        "存取字串中的值: 使用方括號"
      ]
    },
    {
      "cell_type": "markdown",
      "metadata": {
        "id": "xhGKf287OI5p"
      },
      "source": [
        "[實作練習]底下程式執行後結果為何?"
      ]
    },
    {
      "cell_type": "code",
      "metadata": {
        "colab": {
          "base_uri": "https://localhost:8080/"
        },
        "id": "rlHZaIcnOJ3Q",
        "outputId": "70d85a8c-69fc-4dd1-ef5b-02ac3718cd29"
      },
      "source": [
        "var1 = 'Hello Python!'\n",
        "\n",
        "print(\"var1[0]: \", var1[0])\n",
        "print(\"var1[1:8]: \", var1[1:8]) # Slicing 切片運算"
      ],
      "execution_count": 7,
      "outputs": [
        {
          "output_type": "stream",
          "text": [
            "var1[0]:  H\n",
            "var1[1:8]:  ello Py\n"
          ],
          "name": "stdout"
        }
      ]
    },
    {
      "cell_type": "markdown",
      "metadata": {
        "id": "6gjgkZW-ONoQ"
      },
      "source": [
        "Slicing 切片運算範例:底下執行結果為何?"
      ]
    },
    {
      "cell_type": "code",
      "metadata": {
        "colab": {
          "base_uri": "https://localhost:8080/"
        },
        "id": "YvELiHX2OOT4",
        "outputId": "87009df8-b9d1-4eb7-a818-4f307f6810ff"
      },
      "source": [
        "b = \"Hello, World!\"\n",
        "print(b[2:5])\n",
        "print(b[:5])\n",
        "print(b[2:])\n",
        "print(b[-5:-2]) # Negative Indexing\n",
        "# 參考資料 https://www.w3schools.com/python/python_strings_slicing.asp"
      ],
      "execution_count": 8,
      "outputs": [
        {
          "output_type": "stream",
          "text": [
            "llo\n",
            "Hello\n",
            "llo, World!\n",
            "orl\n"
          ],
          "name": "stdout"
        }
      ]
    },
    {
      "cell_type": "markdown",
      "metadata": {
        "id": "o8DmkG1qOQR5"
      },
      "source": [
        "[2_3]Python内建的字串函数(Built-in String Methods)\n",
        "\n",
        "    作業:參考底網址完成十種函數的自我測試報告\n",
        "    Python - String Methods\n",
        "    https://www.w3schools.com/python/python_strings_methods.asp"
      ]
    },
    {
      "cell_type": "markdown",
      "metadata": {
        "id": "fNNZdh4rOV4w"
      },
      "source": [
        "[實作練習]底下程式執行後結果為何?"
      ]
    },
    {
      "cell_type": "code",
      "metadata": {
        "colab": {
          "base_uri": "https://localhost:8080/",
          "height": 216
        },
        "id": "budPo9eoOXqa",
        "outputId": "5967d27f-5679-47a0-ef8c-652095737f73"
      },
      "source": [
        "str1='happy python day'\n",
        "str2='    Oh!   '\n",
        "\n",
        "\n",
        "str4=str1 + str2   # 字串串接String Concatenation運算\n",
        "\n",
        "print(str4.capitalize())\n",
        "\n",
        "mystr = 'python'\n",
        "str4.find(python, beg=0, end=len(str4))"
      ],
      "execution_count": 14,
      "outputs": [
        {
          "output_type": "stream",
          "text": [
            "Happy python day    oh!   \n"
          ],
          "name": "stdout"
        },
        {
          "output_type": "error",
          "ename": "NameError",
          "evalue": "ignored",
          "traceback": [
            "\u001b[0;31m---------------------------------------------------------------------------\u001b[0m",
            "\u001b[0;31mNameError\u001b[0m                                 Traceback (most recent call last)",
            "\u001b[0;32m<ipython-input-14-02859d840929>\u001b[0m in \u001b[0;36m<module>\u001b[0;34m()\u001b[0m\n\u001b[1;32m      7\u001b[0m \u001b[0;34m\u001b[0m\u001b[0m\n\u001b[1;32m      8\u001b[0m \u001b[0mmystr\u001b[0m \u001b[0;34m=\u001b[0m \u001b[0;34m'python'\u001b[0m\u001b[0;34m\u001b[0m\u001b[0;34m\u001b[0m\u001b[0m\n\u001b[0;32m----> 9\u001b[0;31m \u001b[0mstr4\u001b[0m\u001b[0;34m.\u001b[0m\u001b[0mfind\u001b[0m\u001b[0;34m(\u001b[0m\u001b[0mpython\u001b[0m\u001b[0;34m,\u001b[0m \u001b[0mbeg\u001b[0m\u001b[0;34m=\u001b[0m\u001b[0;36m0\u001b[0m\u001b[0;34m,\u001b[0m \u001b[0mend\u001b[0m\u001b[0;34m=\u001b[0m\u001b[0mlen\u001b[0m\u001b[0;34m(\u001b[0m\u001b[0mstr4\u001b[0m\u001b[0;34m)\u001b[0m\u001b[0;34m)\u001b[0m\u001b[0;34m\u001b[0m\u001b[0;34m\u001b[0m\u001b[0m\n\u001b[0m",
            "\u001b[0;31mNameError\u001b[0m: name 'python' is not defined"
          ]
        }
      ]
    },
    {
      "cell_type": "markdown",
      "metadata": {
        "id": "O9EJvIX1Oa7S"
      },
      "source": [
        "3_列表(list)資料及其運算\n",
        "\n",
        "    LIST是 Python 中最基本的資料結構。\n",
        "\n",
        "    LIST使用一個方括號內的逗號分隔值出現。\n",
        "\n",
        "    LIST的每個值都有對應的位置，稱之為索引( index)，\n",
        "\n",
        "    第一個索引是 0，第二個索引是 1，依此類推。\n",
        "\n",
        "    LIST都可以進行的操作包括索引，切片，加，乘，檢查成員。\n",
        "\n",
        "    Python 內建許多函數: \n",
        "    1.len(list):元素個數\n",
        "    2.max(list)返回元素最大值\n",
        "    3.min(list):返回元素最小值"
      ]
    },
    {
      "cell_type": "markdown",
      "metadata": {
        "id": "AhfWPJr-T6e3"
      },
      "source": [
        "範例 1:底下程式執行後結果為何?"
      ]
    },
    {
      "cell_type": "code",
      "metadata": {
        "colab": {
          "base_uri": "https://localhost:8080/"
        },
        "id": "CC9UyG4TT7JD",
        "outputId": "4117e145-202e-4f9f-c44b-423dbb1291df"
      },
      "source": [
        "list1 = [21, 33, 14, 12, 32, 98]\n",
        "\n",
        "list1[1]\n",
        "list1[-2]\n",
        "list1[1:3]  # 切片運算"
      ],
      "execution_count": 15,
      "outputs": [
        {
          "output_type": "execute_result",
          "data": {
            "text/plain": [
              "[33, 14]"
            ]
          },
          "metadata": {
            "tags": []
          },
          "execution_count": 15
        }
      ]
    },
    {
      "cell_type": "markdown",
      "metadata": {
        "id": "Vj6H-fcAT9NJ"
      },
      "source": [
        "範例 2:[內建函數]底下程式執行後結果為何?"
      ]
    },
    {
      "cell_type": "code",
      "metadata": {
        "colab": {
          "base_uri": "https://localhost:8080/"
        },
        "id": "LL0wiXk4T_Zp",
        "outputId": "87dd91ac-ee6b-455a-f9bc-03351ce5512b"
      },
      "source": [
        "list1 = [21, 33, 14, 12, 32, 98]\n",
        "\n",
        "len(list1)\n",
        "max(list1)\n",
        "min(list1)\n",
        "sum(list1)"
      ],
      "execution_count": 16,
      "outputs": [
        {
          "output_type": "execute_result",
          "data": {
            "text/plain": [
              "210"
            ]
          },
          "metadata": {
            "tags": []
          },
          "execution_count": 16
        }
      ]
    },
    {
      "cell_type": "markdown",
      "metadata": {
        "id": "nm_slramUDSJ"
      },
      "source": [
        "4_字典(dict)資料及其運算\n",
        "\n",
        "    字典的每筆資料都使用key(鍵)=>value(值) pair(對)\n",
        "    每筆資料都使用冒號 : 分割\n",
        "    每對之間用逗號(,)分割，\n",
        "    整個字典包括在花括弧 {} \n",
        "    key(鍵)必須是唯一的，但value(值)則不必。\n",
        "    Python 內建許多函數: \n",
        "    len(dict):計算字典元素個數，即鍵的總數。\n",
        "    Python 內建許多方法(Method):\n",
        "    字典.items():以列表返回LIST陣列\n",
        "    字典.keys():返回所有keys\n",
        "    字典.values():返回所有values"
      ]
    },
    {
      "cell_type": "markdown",
      "metadata": {
        "id": "eYVcCCkkUQ9j"
      },
      "source": [
        "定義方式:"
      ]
    },
    {
      "cell_type": "code",
      "metadata": {
        "colab": {
          "base_uri": "https://localhost:8080/"
        },
        "id": "wTUOIoxRURea",
        "outputId": "683fb64e-e424-4366-848f-8b77e56f6e50"
      },
      "source": [
        "a = dict(one=1, two=2, three=3)\n",
        "b = {'one': 1, 'two': 2, 'three': 3}\n",
        "c = dict(zip(['one', 'two', 'three'], [1, 2, 3]))\n",
        "d = dict([('two', 2), ('one', 1), ('three', 3)])\n",
        "e = dict({'three': 3, 'one': 1, 'two': 2})\n",
        "f = dict({'one': 1, 'three': 3}, two=2)\n",
        "a == b == c == d == e == f"
      ],
      "execution_count": 17,
      "outputs": [
        {
          "output_type": "execute_result",
          "data": {
            "text/plain": [
              "True"
            ]
          },
          "metadata": {
            "tags": []
          },
          "execution_count": 17
        }
      ]
    },
    {
      "cell_type": "markdown",
      "metadata": {
        "id": "UF358VMtUXV8"
      },
      "source": [
        "範例 1:底下程式執行後結果為何?"
      ]
    },
    {
      "cell_type": "code",
      "metadata": {
        "colab": {
          "base_uri": "https://localhost:8080/"
        },
        "id": "zIEsxzsdUX4X",
        "outputId": "512f2620-f1c3-4576-905c-0b4d1741fc5b"
      },
      "source": [
        "dict = {'Name': 'DaDaLong', 'Age': 17, 'Class': 'First'}\n",
        "\n",
        "print(\"dict['Name']: \", dict['Name'])\n",
        "print(\"dict['Age']: \", dict['Age'])"
      ],
      "execution_count": 18,
      "outputs": [
        {
          "output_type": "stream",
          "text": [
            "dict['Name']:  DaDaLong\n",
            "dict['Age']:  17\n"
          ],
          "name": "stdout"
        }
      ]
    },
    {
      "cell_type": "markdown",
      "metadata": {
        "id": "o25GIHL5UZ7D"
      },
      "source": [
        "範例 2:底下程式執行後結果為何?"
      ]
    },
    {
      "cell_type": "code",
      "metadata": {
        "colab": {
          "base_uri": "https://localhost:8080/"
        },
        "id": "xO5_wcTAUbny",
        "outputId": "0109f404-b124-4a8d-9057-6ed7e70d769e"
      },
      "source": [
        "dict = {'Name': 'DaDaLong', 'Age': 17, 'Class': 'First'}\n",
        "dict.items()"
      ],
      "execution_count": 19,
      "outputs": [
        {
          "output_type": "execute_result",
          "data": {
            "text/plain": [
              "dict_items([('Name', 'DaDaLong'), ('Age', 17), ('Class', 'First')])"
            ]
          },
          "metadata": {
            "tags": []
          },
          "execution_count": 19
        }
      ]
    },
    {
      "cell_type": "markdown",
      "metadata": {
        "id": "LtbvARuTUdmx"
      },
      "source": [
        "範例 3:[程式比較]和上述程式輸出有何不同?"
      ]
    },
    {
      "cell_type": "code",
      "metadata": {
        "colab": {
          "base_uri": "https://localhost:8080/"
        },
        "id": "CVjCpFMFUjRq",
        "outputId": "331a3dad-0968-49e3-e194-08902248fe69"
      },
      "source": [
        "dict = {'Name': 'DaDaLong', 'Age': 17, 'Class': 'First'}\n",
        "list(dict.items())\n",
        "dict = {'Name': 'DaDaLong', 'Age': 17, 'Class': 'First'}\n",
        "list(dict.keys())"
      ],
      "execution_count": 20,
      "outputs": [
        {
          "output_type": "execute_result",
          "data": {
            "text/plain": [
              "['Name', 'Age', 'Class']"
            ]
          },
          "metadata": {
            "tags": []
          },
          "execution_count": 20
        }
      ]
    },
    {
      "cell_type": "markdown",
      "metadata": {
        "id": "K55DfpuzUmwB"
      },
      "source": [
        "應用範例程式"
      ]
    },
    {
      "cell_type": "markdown",
      "metadata": {
        "id": "XTyLYeSHU1oh"
      },
      "source": [
        "    使用字典(dict)資料攢成簡單的小寫英文字母 的ASCII 字典\n",
        "    https://en.wikipedia.org/wiki/ASCII\n",
        "    a-->97  ... z-->122"
      ]
    },
    {
      "cell_type": "code",
      "metadata": {
        "colab": {
          "base_uri": "https://localhost:8080/"
        },
        "id": "wb7CuMfhUw2x",
        "outputId": "3e18a484-8621-4c4f-e5b3-e907b4ceed25"
      },
      "source": [
        "# key 是數字 value是小寫英文字母 97-->a  ... 122-->z\n",
        "ascii_a2z = {num: chr(num) for num in range(97,123)}\n",
        "ascii_a2z\n",
        "# key 是小寫英文字母   value是 數字 a-->97  ... z-->122\n",
        "alphas= []\n",
        "for num in range(97,123):\n",
        "    alpha = chr(num)\n",
        "    alphas.append(alpha)\n",
        "  \n",
        "ascii_a2z = {alpha: ord(alpha) for alpha in alphas}\n",
        "ascii_a2z"
      ],
      "execution_count": 21,
      "outputs": [
        {
          "output_type": "execute_result",
          "data": {
            "text/plain": [
              "{'a': 97,\n",
              " 'b': 98,\n",
              " 'c': 99,\n",
              " 'd': 100,\n",
              " 'e': 101,\n",
              " 'f': 102,\n",
              " 'g': 103,\n",
              " 'h': 104,\n",
              " 'i': 105,\n",
              " 'j': 106,\n",
              " 'k': 107,\n",
              " 'l': 108,\n",
              " 'm': 109,\n",
              " 'n': 110,\n",
              " 'o': 111,\n",
              " 'p': 112,\n",
              " 'q': 113,\n",
              " 'r': 114,\n",
              " 's': 115,\n",
              " 't': 116,\n",
              " 'u': 117,\n",
              " 'v': 118,\n",
              " 'w': 119,\n",
              " 'x': 120,\n",
              " 'y': 121,\n",
              " 'z': 122}"
            ]
          },
          "metadata": {
            "tags": []
          },
          "execution_count": 21
        }
      ]
    },
    {
      "cell_type": "markdown",
      "metadata": {
        "id": "iQKsmIf_U7TL"
      },
      "source": [
        "[進階研讀]標準函式庫還定義有許多資料型態[不必教]"
      ]
    },
    {
      "cell_type": "markdown",
      "metadata": {
        "id": "IQ7I1rlDU_uq"
      },
      "source": [
        "    The Python Standard Library\n",
        "    https://docs.python.org/3/library/\n",
        "\n",
        "    參考Built-in Types ==>\n",
        "    Numeric Types — int, float, complex\n",
        "    Text Sequence Type — str\n",
        "    Sequence Types — list, tuple, range\n",
        "    Mapping Types — dict"
      ]
    },
    {
      "cell_type": "code",
      "metadata": {
        "colab": {
          "base_uri": "https://localhost:8080/"
        },
        "id": "iLWJYvnYU9fq",
        "outputId": "df99185e-26c8-461a-daf1-aeef13c665f2"
      },
      "source": [
        "# [進階範例]底下程式執行後結果為何?\n",
        "\n",
        "from queue import Queue\n",
        "q = Queue()\n",
        "q.put(1)\n",
        "q.put(2)\n",
        "q.put(3)\n",
        "q\n",
        "print(q.queue)\n",
        "q.get()"
      ],
      "execution_count": 22,
      "outputs": [
        {
          "output_type": "stream",
          "text": [
            "deque([1, 2, 3])\n"
          ],
          "name": "stdout"
        },
        {
          "output_type": "execute_result",
          "data": {
            "text/plain": [
              "1"
            ]
          },
          "metadata": {
            "tags": []
          },
          "execution_count": 22
        }
      ]
    }
  ]
}